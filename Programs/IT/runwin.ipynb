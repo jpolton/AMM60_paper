{
 "cells": [
  {
   "cell_type": "markdown",
   "metadata": {},
   "source": [
    "# Running mean diagnostics\n",
    "Attempt to see if there is a more efficient way to compute running window diagnostics over array.\n",
    "\n",
    "Initial time testing suggest that this new method is rubbish! At about 100x slower...\n",
    "\n",
    "Removing the np.append function and accumulating variables as an interative sum is much better but still slower over larger matrices "
   ]
  },
  {
   "cell_type": "code",
   "execution_count": 1,
   "metadata": {
    "collapsed": false
   },
   "outputs": [
    {
     "name": "stderr",
     "output_type": "stream",
     "text": [
      "/Users/jeff/anaconda/lib/python2.7/site-packages/matplotlib/font_manager.py:273: UserWarning: Matplotlib is building the font cache using fc-list. This may take a moment.\n",
      "  warnings.warn('Matplotlib is building the font cache using fc-list. This may take a moment.')\n"
     ]
    }
   ],
   "source": [
    "import numpy as np\n",
    "import copy # For deep copying variables\n",
    "from amm60_data_tools import window_strat # compute running window filtered stratification\n",
    "\n",
    "import matplotlib.pyplot as plt  # plotting\n",
    "%matplotlib inline\n",
    "\n",
    "\n"
   ]
  },
  {
   "cell_type": "code",
   "execution_count": 10,
   "metadata": {
    "collapsed": false
   },
   "outputs": [],
   "source": [
    "profile=np.random.rand(750,3,370,530)*1E3\n",
    "[nt,nz,ny,nx] = np.shape(profile)\n",
    "time_counter = np.arange(nt)\n",
    "H = np.ones((nt,ny,nx))*100\n",
    "\n",
    "winsiz = 3*24\n",
    "doodbuff = 19\n",
    "dt = 3\n",
    "strat_3day = np.squeeze( window_strat(profile, time_counter, H ) )\n",
    "\n",
    "var = (profile[:,0,:,:] - profile[:,2,:,:])/H # i.e. strat"
   ]
  },
  {
   "cell_type": "code",
   "execution_count": 11,
   "metadata": {
    "collapsed": false
   },
   "outputs": [
    {
     "name": "stdout",
     "output_type": "stream",
     "text": [
      "(750, 3, 370, 530)\n",
      "(213, 370, 530)\n",
      "(750, 370, 530)\n"
     ]
    }
   ],
   "source": [
    "print np.shape(profile)\n",
    "print np.shape(strat_3day)\n",
    "print np.shape(var)"
   ]
  },
  {
   "cell_type": "code",
   "execution_count": 12,
   "metadata": {
    "collapsed": false
   },
   "outputs": [],
   "source": [
    "def runwin(var,dt,winsiz,doodbuff,op):\n",
    "    \"\"\"\n",
    "    Function to compute running window operation.\n",
    "    Append repeat matrices rolled in the time axis onto a new dimension at axis=0\n",
    "\n",
    "    INPUT:\n",
    "        var\n",
    "        dt = 3\n",
    "        winsiz  = 3*24\n",
    "        doodbuff = 19\n",
    "        op - operation. Either:\n",
    "            op = 'mean'\n",
    "            op = 'var'\n",
    "            op = 'std'\n",
    "    OUTPUT:\n",
    "        runwin_var\n",
    "\n",
    "    USEAGE:\n",
    "        runwin_var = runwin(var,3,3*24,19,'mean')\n",
    "    \"\"\"\n",
    "\n",
    "\n",
    "    nt = np.shape(var)[0]\n",
    "\n",
    "#    # Compile all time slices for operation in new dimension\n",
    "#    tt = var[np.newaxis,:] #Doesn't matter how many dims var has, as long as the first is time\n",
    "#    for i in range(winsiz-1): # Already have one entry so range upto winsiz-1\n",
    "#        tt = np.append(np.roll(tt,1,axis=1), var[np.newaxis,:], axis=0)\n",
    "\n",
    "\n",
    "    # Compile all time slices for operation in new dimension\n",
    "    tt = var #Doesn't matter how many dims var has, as long as the first is time\n",
    "    for i in range(int(winsiz/2)): # This needs to be sorted for odd winsiz\n",
    "        tt = tt + np.roll(var,1,axis=0) + np.roll(var,-1,axis=0) \n",
    "\n",
    "\n",
    "\n",
    "    # Collapse over new dimension\n",
    "    if op == 'mean':\n",
    "        runwin_tt = tt/winsiz # This denominator might be one off\n",
    "    elif op == 'var':\n",
    "        runwin_tt = np.var(tt, axis=0)    \n",
    "    elif op == 'std':\n",
    "        runwin_tt = np.std(tt, axis=0)    \n",
    "    else:\n",
    "        print 'not ready for that operation'\n",
    "\n",
    "    # Remove snapshots in end buffer regions (which wrapped around in time).\n",
    "    end_buff = range(nt - doodbuff-int(np.ceil(winsiz/2)),nt) # chop off end values\n",
    "    start_buff = range(doodbuff+int(np.floor(winsiz/2))) # chop off start values\n",
    "    #Subsample time axis\n",
    "    subsample = [x for x in range(nt) if x not in range(0,nt,dt)]\n",
    "    #print start_buff\n",
    "    #print subsample\n",
    "    #print end_buff\n",
    "    \n",
    "    # join the indices to be removed\n",
    "    removelist = np.unique(np.append(np.append(end_buff, start_buff),subsample))\n",
    "    runwin_var = np.delete(runwin_tt,removelist, axis=0)\n",
    "\n",
    "    return runwin_var\n"
   ]
  },
  {
   "cell_type": "markdown",
   "metadata": {},
   "source": [
    "# Time testing"
   ]
  },
  {
   "cell_type": "code",
   "execution_count": 13,
   "metadata": {
    "collapsed": false
   },
   "outputs": [
    {
     "name": "stdout",
     "output_type": "stream",
     "text": [
      "New method: 111.328675032\n",
      "file size: (213, 370, 530)\n"
     ]
    }
   ],
   "source": [
    "import time\n",
    "\n",
    "start = time.time()\n",
    "runwin_var = runwin(var,3,3*24,19,'mean')\n",
    "end = time.time()\n",
    "print 'New method:',(end - start)\n",
    "print 'file size:',np.shape(runwin_var)\n"
   ]
  },
  {
   "cell_type": "code",
   "execution_count": 14,
   "metadata": {
    "collapsed": false
   },
   "outputs": [
    {
     "name": "stdout",
     "output_type": "stream",
     "text": [
      "Old method: 21.3961420059\n",
      "file size: (213, 370, 530)\n"
     ]
    }
   ],
   "source": [
    "\n",
    "start = time.time()\n",
    "strat_3day = np.squeeze( window_strat(profile, time_counter, H ) )\n",
    "end = time.time()\n",
    "print'Old method:',(end - start)\n",
    "print 'file size:',np.shape(strat_3day)\n"
   ]
  },
  {
   "cell_type": "code",
   "execution_count": 16,
   "metadata": {
    "collapsed": false
   },
   "outputs": [
    {
     "data": {
      "text/plain": [
       "21"
      ]
     },
     "execution_count": 16,
     "metadata": {},
     "output_type": "execute_result"
    }
   ],
   "source": [
    "int(np.floor( (nt - winsiz - 2*doodbuff)/dt ))"
   ]
  },
  {
   "cell_type": "code",
   "execution_count": 18,
   "metadata": {
    "collapsed": false
   },
   "outputs": [
    {
     "name": "stdout",
     "output_type": "stream",
     "text": [
      "21\n",
      "72\n"
     ]
    }
   ],
   "source": [
    "print (175 - 24*3 - 2*19)/3\n",
    "print 24*3/2"
   ]
  },
  {
   "cell_type": "code",
   "execution_count": null,
   "metadata": {
    "collapsed": false
   },
   "outputs": [],
   "source": [
    "\n"
   ]
  },
  {
   "cell_type": "code",
   "execution_count": 12,
   "metadata": {
    "collapsed": false
   },
   "outputs": [
    {
     "name": "stdout",
     "output_type": "stream",
     "text": [
      "[0, 1, 2, 3, 4, 5, 6, 7, 8, 9, 10, 11, 12, 13, 14, 15, 16, 17, 18, 19, 20, 21, 22, 23, 24, 25, 26, 27, 28, 29, 30, 31, 32, 33, 34, 35, 36, 37, 38, 39, 40, 41, 42, 43, 44, 45, 46, 47, 48, 49, 50, 51, 52, 53, 54, 55, 56, 57, 58, 59, 60, 61, 62, 63, 64, 65, 66, 67, 68, 69]\n",
      "[1, 2, 4, 5, 7, 8, 10, 11, 13, 14, 16, 17, 19, 20, 22, 23, 25, 26, 28, 29, 31, 32, 34, 35, 37, 38, 40, 41, 43, 44, 46, 47, 49, 50, 52, 53, 55, 56, 58, 59, 61, 62, 64, 65, 67, 68, 70, 71, 73, 74, 76, 77, 79, 80, 82, 83, 85, 86, 88, 89, 91, 92, 94, 95, 97, 98, 100, 101, 103, 104, 106, 107, 109, 110, 112, 113, 115, 116, 118, 119, 121, 122, 124, 125, 127, 128, 130, 131, 133, 134, 136, 137, 139, 140, 142, 143, 145, 146, 148, 149, 151, 152, 154, 155, 157, 158, 160, 161, 163, 164, 166, 167, 169, 170, 172, 173]\n",
      "[105, 106, 107, 108, 109, 110, 111, 112, 113, 114, 115, 116, 117, 118, 119, 120, 121, 122, 123, 124, 125, 126, 127, 128, 129, 130, 131, 132, 133, 134, 135, 136, 137, 138, 139, 140, 141, 142, 143, 144, 145, 146, 147, 148, 149, 150, 151, 152, 153, 154, 155, 156, 157, 158, 159, 160, 161, 162, 163, 164, 165, 166, 167, 168, 169, 170, 171, 172, 173, 174]\n"
     ]
    }
   ],
   "source": [
    "tt=runwin(var,3,3*34,19,'mean')\n",
    "\n"
   ]
  },
  {
   "cell_type": "code",
   "execution_count": null,
   "metadata": {
    "collapsed": false
   },
   "outputs": [],
   "source": []
  },
  {
   "cell_type": "code",
   "execution_count": 7,
   "metadata": {
    "collapsed": false
   },
   "outputs": [
    {
     "name": "stdout",
     "output_type": "stream",
     "text": [
      "1.65996588731\n",
      "-1.78516149877\n"
     ]
    }
   ],
   "source": [
    "print strat_3day.max()\n",
    "print tt.min()"
   ]
  },
  {
   "cell_type": "code",
   "execution_count": null,
   "metadata": {
    "collapsed": true
   },
   "outputs": [],
   "source": []
  },
  {
   "cell_type": "code",
   "execution_count": 8,
   "metadata": {
    "collapsed": false
   },
   "outputs": [
    {
     "data": {
      "text/plain": [
       "21"
      ]
     },
     "execution_count": 8,
     "metadata": {},
     "output_type": "execute_result"
    }
   ],
   "source": [
    "int(np.floor(175 - 3*24 - 2*19)/3)"
   ]
  },
  {
   "cell_type": "code",
   "execution_count": 32,
   "metadata": {
    "collapsed": false
   },
   "outputs": [
    {
     "name": "stdout",
     "output_type": "stream",
     "text": [
      "Help on function std in module numpy.core.fromnumeric:\n",
      "\n",
      "std(a, axis=None, dtype=None, out=None, ddof=0, keepdims=<class numpy._globals._NoValue>)\n",
      "    Compute the standard deviation along the specified axis.\n",
      "    \n",
      "    Returns the standard deviation, a measure of the spread of a distribution,\n",
      "    of the array elements. The standard deviation is computed for the\n",
      "    flattened array by default, otherwise over the specified axis.\n",
      "    \n",
      "    Parameters\n",
      "    ----------\n",
      "    a : array_like\n",
      "        Calculate the standard deviation of these values.\n",
      "    axis : None or int or tuple of ints, optional\n",
      "        Axis or axes along which the standard deviation is computed. The\n",
      "        default is to compute the standard deviation of the flattened array.\n",
      "    \n",
      "        .. versionadded: 1.7.0\n",
      "    \n",
      "        If this is a tuple of ints, a standard deviation is performed over\n",
      "        multiple axes, instead of a single axis or all the axes as before.\n",
      "    dtype : dtype, optional\n",
      "        Type to use in computing the standard deviation. For arrays of\n",
      "        integer type the default is float64, for arrays of float types it is\n",
      "        the same as the array type.\n",
      "    out : ndarray, optional\n",
      "        Alternative output array in which to place the result. It must have\n",
      "        the same shape as the expected output but the type (of the calculated\n",
      "        values) will be cast if necessary.\n",
      "    ddof : int, optional\n",
      "        Means Delta Degrees of Freedom.  The divisor used in calculations\n",
      "        is ``N - ddof``, where ``N`` represents the number of elements.\n",
      "        By default `ddof` is zero.\n",
      "    keepdims : bool, optional\n",
      "        If this is set to True, the axes which are reduced are left\n",
      "        in the result as dimensions with size one. With this option,\n",
      "        the result will broadcast correctly against the original `arr`.\n",
      "    \n",
      "        If the default value is passed, then `keepdims` will not be\n",
      "        passed through to the `std` method of sub-classes of\n",
      "        `ndarray`, however any non-default value will be.  If the\n",
      "        sub-classes `sum` method does not implement `keepdims` any\n",
      "        exceptions will be raised.\n",
      "    \n",
      "    Returns\n",
      "    -------\n",
      "    standard_deviation : ndarray, see dtype parameter above.\n",
      "        If `out` is None, return a new array containing the standard deviation,\n",
      "        otherwise return a reference to the output array.\n",
      "    \n",
      "    See Also\n",
      "    --------\n",
      "    var, mean, nanmean, nanstd, nanvar\n",
      "    numpy.doc.ufuncs : Section \"Output arguments\"\n",
      "    \n",
      "    Notes\n",
      "    -----\n",
      "    The standard deviation is the square root of the average of the squared\n",
      "    deviations from the mean, i.e., ``std = sqrt(mean(abs(x - x.mean())**2))``.\n",
      "    \n",
      "    The average squared deviation is normally calculated as\n",
      "    ``x.sum() / N``, where ``N = len(x)``.  If, however, `ddof` is specified,\n",
      "    the divisor ``N - ddof`` is used instead. In standard statistical\n",
      "    practice, ``ddof=1`` provides an unbiased estimator of the variance\n",
      "    of the infinite population. ``ddof=0`` provides a maximum likelihood\n",
      "    estimate of the variance for normally distributed variables. The\n",
      "    standard deviation computed in this function is the square root of\n",
      "    the estimated variance, so even with ``ddof=1``, it will not be an\n",
      "    unbiased estimate of the standard deviation per se.\n",
      "    \n",
      "    Note that, for complex numbers, `std` takes the absolute\n",
      "    value before squaring, so that the result is always real and nonnegative.\n",
      "    \n",
      "    For floating-point input, the *std* is computed using the same\n",
      "    precision the input has. Depending on the input data, this can cause\n",
      "    the results to be inaccurate, especially for float32 (see example below).\n",
      "    Specifying a higher-accuracy accumulator using the `dtype` keyword can\n",
      "    alleviate this issue.\n",
      "    \n",
      "    Examples\n",
      "    --------\n",
      "    >>> a = np.array([[1, 2], [3, 4]])\n",
      "    >>> np.std(a)\n",
      "    1.1180339887498949\n",
      "    >>> np.std(a, axis=0)\n",
      "    array([ 1.,  1.])\n",
      "    >>> np.std(a, axis=1)\n",
      "    array([ 0.5,  0.5])\n",
      "    \n",
      "    In single precision, std() can be inaccurate:\n",
      "    \n",
      "    >>> a = np.zeros((2, 512*512), dtype=np.float32)\n",
      "    >>> a[0, :] = 1.0\n",
      "    >>> a[1, :] = 0.1\n",
      "    >>> np.std(a)\n",
      "    0.45000005\n",
      "    \n",
      "    Computing the standard deviation in float64 is more accurate:\n",
      "    \n",
      "    >>> np.std(a, dtype=np.float64)\n",
      "    0.44999999925494177\n",
      "\n"
     ]
    }
   ],
   "source": [
    "help(np.std)"
   ]
  },
  {
   "cell_type": "code",
   "execution_count": null,
   "metadata": {
    "collapsed": true
   },
   "outputs": [],
   "source": []
  }
 ],
 "metadata": {
  "anaconda-cloud": {},
  "kernelspec": {
   "display_name": "Python [default]",
   "language": "python",
   "name": "python2"
  },
  "language_info": {
   "codemirror_mode": {
    "name": "ipython",
    "version": 2
   },
   "file_extension": ".py",
   "mimetype": "text/x-python",
   "name": "python",
   "nbconvert_exporter": "python",
   "pygments_lexer": "ipython2",
   "version": "2.7.12"
  }
 },
 "nbformat": 4,
 "nbformat_minor": 1
}
