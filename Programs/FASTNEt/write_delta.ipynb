{
 "cells": [
  {
   "cell_type": "code",
   "execution_count": 1,
   "metadata": {
    "collapsed": false
   },
   "outputs": [
    {
     "name": "stdout",
     "output_type": "stream",
     "text": [
      "karen\n"
     ]
    }
   ],
   "source": [
    "## Import the libraries\n",
    "\n",
    "import numpy as np\n",
    "import numpy.ma as ma\n",
    "from scipy.io import netcdf\n",
    "from datetime import datetime, timedelta\n",
    "import matplotlib.dates as mdates\n",
    "import matplotlib.pyplot as plt  # plotting\n",
    "from sympy import * \n",
    "from __future__ import division\n",
    "import bodc_data_tools\n",
    "import time\n",
    "\n",
    "init_printing()  # for sympy\n",
    "%matplotlib inline\n",
    "\n",
    "## Personal librairies\n",
    "import sys\n",
    "# the mock-0.3.1 dir contains testcase.py, testutils.py & mock.py\n",
    "sys.path.append('/login/jelt/matlab/mfiles/ipynb/fastnet')\n",
    "import bodc_data_tools\n",
    "import h5py\n",
    "import amm60_data_tools\n",
    "\n",
    "\n",
    "######### Personal Paths #############\n",
    "HOME = '/media/karen/data1/'\n",
    "CRUISE_DIR = HOME + 'AMM60/FASTNEt/BODC_fastnet/'\n",
    "AMM60_DIR = HOME + 'AMM60/RUN_nodiff_2012/'\n",
    "AMM7_DIR = HOME + 'AMM7/2012/'\n",
    "#NNA_DIR = HOME + 'NNA/2012/'\n",
    "#CSV_FILENAME = 'bodc_series_metadata_summary.csv'\n",
    "WRITEDIR = HOME + 'AMM60/FASTNEt'\n",
    "MOORING_NAMES = ['ST1', 'ST2' ,'ST4' ,'ST5','SE']\n",
    "\n",
    "\n",
    "# Path fixes while developing and debugging #\n",
    "import getpass\n",
    "user = getpass.getuser()\n",
    "print(user)\n",
    "\n",
    "if 'jelt' in user:\n",
    "    HOME = '/projectsa/FASTNEt/kariho40/OBS/BODC_FASTNEt_data/'\n",
    "    MOORINGmod_filename = '/projectsa/FASTNEt/kariho40/AMM60/RUNS/D376/AMM60_1h_fastnet_ST1.nc'\n",
    "    MOORINGobs_filename = '/scratch/jelt/mooring_0.nc'\n",
    "    MOORING_merged_filename = '/scratch/jelt/mooring_ST1_temp.nc'\n",
    "elif 'karen' in user:\n",
    "    ######### Personal Paths #############\n",
    "    HOME = '/media/karen/data1/'\n",
    "    CRUISE_DIR = HOME + 'AMM60/FASTNEt/BODC_fastnet/'\n",
    "    AMM60_DIR = HOME + 'AMM60/FASTNEt/'\n",
    "    AMM7_DIR = HOME + 'AMM7/2012/'\n",
    "    #NNA_DIR = HOME + 'AMM60/FASTNEt/NNA/'\n",
    "    NNA_DIR = HOME + 'AMM60/FASTNEt/BODC_fastnet/'\n",
    "    #CSV_FILENAME = 'bodc_series_metadata_summary.csv'\n",
    "    WRITEDIR = HOME + 'AMM60/FASTNEt/'\n",
    "    MOORING_NAMES = ['ST1', 'ST2' ,'ST4' ,'ST5','SE']\n",
    "else:\n",
    "    print \"Don't panic! \"+user+\" not set up for pathname settings\"\n",
    "        \n"
   ]
  },
  {
   "cell_type": "code",
   "execution_count": 2,
   "metadata": {
    "collapsed": false
   },
   "outputs": [],
   "source": [
    "# time_sec = np.zeros(len(time_datetime_runwin))\n",
    "# for idx, val in enumerate(time_datetime_runwin):\n",
    "#     time_str = datetime.strftime(time_datetime_runwin[idx], '%Y-%m-%d %H:    %M:%S')\n",
    "#     d = datetime.strptime(time_str, '%Y-%m-%d %H:    %M:%S')\n",
    "#     time_sec[idx] = time.mktime(d.timetuple())\n",
    "    "
   ]
  },
  {
   "cell_type": "code",
   "execution_count": 9,
   "metadata": {
    "collapsed": false
   },
   "outputs": [
    {
     "name": "stdout",
     "output_type": "stream",
     "text": [
      "ST1\n",
      "AMM60\n",
      "Chunking done.\n",
      "Karen: WARNING: I added a new output field (time_counter_runwin) to the delta_diagnose function. Check it still works/update your code and add any parent code to the list in the delta_diagnose function header. Delete this warning when done.\n",
      "Chunking done.\n",
      "Karen: WARNING: I added a new output field (time_counter_runwin) to the delta_diagnose function. Check it still works/update your code and add any parent code to the list in the delta_diagnose function header. Delete this warning when done.\n",
      "AMM7\n",
      "Chunking done.\n",
      "Karen: WARNING: I added a new output field (time_counter_runwin) to the delta_diagnose function. Check it still works/update your code and add any parent code to the list in the delta_diagnose function header. Delete this warning when done.\n",
      "Chunking done."
     ]
    },
    {
     "name": "stderr",
     "output_type": "stream",
     "text": [
      "/home/karen/anaconda2/lib/python2.7/site-packages/ipykernel/__main__.py:37: DeprecationWarning: using a non-integer number instead of an integer will result in an error in the future\n",
      "/home/karen/anaconda2/lib/python2.7/site-packages/ipykernel/__main__.py:39: DeprecationWarning: using a non-integer number instead of an integer will result in an error in the future\n",
      "/home/karen/anaconda2/lib/python2.7/site-packages/ipykernel/__main__.py:53: DeprecationWarning: using a non-integer number instead of an integer will result in an error in the future\n"
     ]
    },
    {
     "name": "stdout",
     "output_type": "stream",
     "text": [
      "\n",
      "Karen: WARNING: I added a new output field (time_counter_runwin) to the delta_diagnose function. Check it still works/update your code and add any parent code to the list in the delta_diagnose function header. Delete this warning when done.\n",
      "NNA\n",
      "Chunking done.\n",
      "Karen: WARNING: I added a new output field (time_counter_runwin) to the delta_diagnose function. Check it still works/update your code and add any parent code to the list in the delta_diagnose function header. Delete this warning when done.\n",
      "Chunking done."
     ]
    },
    {
     "name": "stderr",
     "output_type": "stream",
     "text": [
      "/home/karen/anaconda2/lib/python2.7/site-packages/ipykernel/__main__.py:55: DeprecationWarning: using a non-integer number instead of an integer will result in an error in the future\n",
      "/home/karen/anaconda2/lib/python2.7/site-packages/ipykernel/__main__.py:70: DeprecationWarning: using a non-integer number instead of an integer will result in an error in the future\n"
     ]
    },
    {
     "name": "stdout",
     "output_type": "stream",
     "text": [
      "\n",
      "Karen: WARNING: I added a new output field (time_counter_runwin) to the delta_diagnose function. Check it still works/update your code and add any parent code to the list in the delta_diagnose function header. Delete this warning when done.\n",
      "ST2\n",
      "AMM60\n",
      "Chunking done.\n",
      "Karen: WARNING: I added a new output field (time_counter_runwin) to the delta_diagnose function. Check it still works/update your code and add any parent code to the list in the delta_diagnose function header. Delete this warning when done.\n",
      "Chunking done.\n",
      "Karen: WARNING: I added a new output field (time_counter_runwin) to the delta_diagnose function. Check it still works/update your code and add any parent code to the list in the delta_diagnose function header. Delete this warning when done.\n",
      "AMM7\n",
      "Chunking done.\n",
      "Karen: WARNING: I added a new output field (time_counter_runwin) to the delta_diagnose function. Check it still works/update your code and add any parent code to the list in the delta_diagnose function header. Delete this warning when done.\n",
      "Chunking done.\n",
      "Karen: WARNING: I added a new output field (time_counter_runwin) to the delta_diagnose function. Check it still works/update your code and add any parent code to the list in the delta_diagnose function header. Delete this warning when done.\n",
      "NNA\n",
      "Chunking done.\n",
      "Karen: WARNING: I added a new output field (time_counter_runwin) to the delta_diagnose function. Check it still works/update your code and add any parent code to the list in the delta_diagnose function header. Delete this warning when done.\n",
      "Chunking done.\n",
      "Karen: WARNING: I added a new output field (time_counter_runwin) to the delta_diagnose function. Check it still works/update your code and add any parent code to the list in the delta_diagnose function header. Delete this warning when done.\n",
      "ST4\n",
      "AMM60\n",
      "Chunking done.\n",
      "Karen: WARNING: I added a new output field (time_counter_runwin) to the delta_diagnose function. Check it still works/update your code and add any parent code to the list in the delta_diagnose function header. Delete this warning when done.\n",
      "Chunking done.\n",
      "Karen: WARNING: I added a new output field (time_counter_runwin) to the delta_diagnose function. Check it still works/update your code and add any parent code to the list in the delta_diagnose function header. Delete this warning when done.\n",
      "AMM7\n",
      "Chunking done.\n",
      "Karen: WARNING: I added a new output field (time_counter_runwin) to the delta_diagnose function. Check it still works/update your code and add any parent code to the list in the delta_diagnose function header. Delete this warning when done.\n",
      "Chunking done.\n",
      "Karen: WARNING: I added a new output field (time_counter_runwin) to the delta_diagnose function. Check it still works/update your code and add any parent code to the list in the delta_diagnose function header. Delete this warning when done.\n",
      "NNA\n",
      "Chunking done.\n",
      "Karen: WARNING: I added a new output field (time_counter_runwin) to the delta_diagnose function. Check it still works/update your code and add any parent code to the list in the delta_diagnose function header. Delete this warning when done.\n",
      "Chunking done.\n",
      "Karen: WARNING: I added a new output field (time_counter_runwin) to the delta_diagnose function. Check it still works/update your code and add any parent code to the list in the delta_diagnose function header. Delete this warning when done.\n",
      "ST5\n",
      "AMM60\n",
      "Chunking done.\n",
      "Karen: WARNING: I added a new output field (time_counter_runwin) to the delta_diagnose function. Check it still works/update your code and add any parent code to the list in the delta_diagnose function header. Delete this warning when done.\n",
      "Chunking done.\n",
      "Karen: WARNING: I added a new output field (time_counter_runwin) to the delta_diagnose function. Check it still works/update your code and add any parent code to the list in the delta_diagnose function header. Delete this warning when done.\n",
      "AMM7\n",
      "Chunking done.\n",
      "Karen: WARNING: I added a new output field (time_counter_runwin) to the delta_diagnose function. Check it still works/update your code and add any parent code to the list in the delta_diagnose function header. Delete this warning when done.\n",
      "Chunking done.\n",
      "Karen: WARNING: I added a new output field (time_counter_runwin) to the delta_diagnose function. Check it still works/update your code and add any parent code to the list in the delta_diagnose function header. Delete this warning when done.\n",
      "NNA\n",
      "Chunking done.\n",
      "Karen: WARNING: I added a new output field (time_counter_runwin) to the delta_diagnose function. Check it still works/update your code and add any parent code to the list in the delta_diagnose function header. Delete this warning when done.\n",
      "Chunking done.\n",
      "Karen: WARNING: I added a new output field (time_counter_runwin) to the delta_diagnose function. Check it still works/update your code and add any parent code to the list in the delta_diagnose function header. Delete this warning when done.\n",
      "SE\n",
      "AMM60\n",
      "Chunking done.\n",
      "Karen: WARNING: I added a new output field (time_counter_runwin) to the delta_diagnose function. Check it still works/update your code and add any parent code to the list in the delta_diagnose function header. Delete this warning when done.\n",
      "Chunking done.\n",
      "Karen: WARNING: I added a new output field (time_counter_runwin) to the delta_diagnose function. Check it still works/update your code and add any parent code to the list in the delta_diagnose function header. Delete this warning when done.\n",
      "AMM7\n",
      "Chunking done.\n",
      "Karen: WARNING: I added a new output field (time_counter_runwin) to the delta_diagnose function. Check it still works/update your code and add any parent code to the list in the delta_diagnose function header. Delete this warning when done.\n",
      "Chunking done.\n",
      "Karen: WARNING: I added a new output field (time_counter_runwin) to the delta_diagnose function. Check it still works/update your code and add any parent code to the list in the delta_diagnose function header. Delete this warning when done.\n",
      "NNA\n",
      "Chunking done.\n",
      "Karen: WARNING: I added a new output field (time_counter_runwin) to the delta_diagnose function. Check it still works/update your code and add any parent code to the list in the delta_diagnose function header. Delete this warning when done.\n",
      "Chunking done.\n",
      "Karen: WARNING: I added a new output field (time_counter_runwin) to the delta_diagnose function. Check it still works/update your code and add any parent code to the list in the delta_diagnose function header. Delete this warning when done.\n"
     ]
    },
    {
     "name": "stderr",
     "output_type": "stream",
     "text": [
      "/home/karen/anaconda2/lib/python2.7/site-packages/ipykernel/__main__.py:72: DeprecationWarning: using a non-integer number instead of an integer will result in an error in the future\n"
     ]
    }
   ],
   "source": [
    "def appendNC2D(ncname,xlen,deltamod,deltaobs,deltant_mod,deltant_obs,delta3dmod,delta3dobs):\n",
    "\n",
    "    \"\"\" \n",
    "    Appends a netcdf file with new variable\n",
    "    \"\"\"\n",
    "    f = netcdf.netcdf_file(ncname, 'a')\n",
    "    \n",
    "    delta_mod = f.createVariable('delta_mod', 'f', ('time',))\n",
    "    delta_mod[:] = deltamod\n",
    "    delta_obs = f.createVariable('delta_obs', 'f', ('time',))\n",
    "    delta_obs[:] = deltaobs\n",
    "    delta_nt_mod = f.createVariable('delta_nt_mod', 'f', ('time',))\n",
    "    delta_nt_mod[:] = deltant_mod\n",
    "    delta_nt_obs = f.createVariable('delta_nt_obs', 'f', ('time',))\n",
    "    delta_nt_obs[:] = deltant_obs\n",
    "    delta_3d_mod = f.createVariable('delta_3d_mod', 'f', ('time',))\n",
    "    delta_3d_mod[:] = delta3dmod\n",
    "    delta_3d_obs = f.createVariable('delta_3d_obs', 'f', ('time',))\n",
    "    delta_3d_obs[:] = delta3dobs\n",
    "\n",
    "\n",
    "for index in range(len(MOORING_NAMES)):\n",
    "    MOORING_NAME = MOORING_NAMES[index]\n",
    "    print(MOORING_NAME)\n",
    "    \n",
    "    # AMM60\n",
    "    print('AMM60')\n",
    "    MOORING_filename = '/media/data1/AMM60/FASTNEt/AMM60/Orig/mooring_' + MOORING_NAME + '.nc'\n",
    "    temp_obs = amm60_data_tools.readMODELnc(MOORING_filename,'temp_obs')\n",
    "    temp_mod = amm60_data_tools.readMODELnc(MOORING_filename,'temp_mod')\n",
    "    depth = amm60_data_tools.readMODELnc(MOORING_filename,'depth')\n",
    "    time_counter = amm60_data_tools.readMODELnc(MOORING_filename,'time')*86400\n",
    "    [delta_mod, delta_nt_mod, delta_var, time_datetime,  delta_runwin_mod, delta_var_runwin, time_datetime_runwin, time_counter_runwin_mod] = amm60_data_tools.delta_diagnose(temp_mod, time_counter, depth, 100 )\n",
    "    [delta_obs, delta_nt_obs, delta_var, time_datetime,  delta_runwin_obs, delta_var_runwin, time_datetime_runwin, time_counter_runwin_obs] = amm60_data_tools.delta_diagnose(temp_obs, time_counter, depth, 100 )\n",
    "    empty_zone = len(delta_mod)-len(delta_runwin_mod)\n",
    "    delta_3d_mod = np.zeros(delta_mod.shape)\n",
    "    delta_3d_mod[empty_zone/2:-empty_zone/2] = delta_runwin_mod\n",
    "    delta_3d_obs = np.zeros(delta_obs.shape)\n",
    "    delta_3d_obs[empty_zone/2:-empty_zone/2] = delta_runwin_obs\n",
    "    appendNC2D('/media/data1/AMM60/FASTNEt/AMM60/mooring_' + MOORING_NAME + '.nc',len(time_counter),delta_mod,delta_obs,delta_nt_mod,delta_nt_obs,delta_3d_mod,delta_3d_obs)\n",
    "    \n",
    "    # AMM7\n",
    "    print('AMM7')\n",
    "    MOORING_filename = '/media/data1/AMM60/FASTNEt/AMM7/Orig/mooring_' + MOORING_NAME + '.nc'\n",
    "    temp_obs = amm60_data_tools.readMODELnc(MOORING_filename,'temp_obs')\n",
    "    temp_mod = amm60_data_tools.readMODELnc(MOORING_filename,'temp_mod')\n",
    "    depth = amm60_data_tools.readMODELnc(MOORING_filename,'depth')\n",
    "    time_counter = amm60_data_tools.readMODELnc(MOORING_filename,'time')*86400\n",
    "    [delta_mod, delta_nt_mod, delta_var, time_datetime,  delta_runwin_mod, delta_var_runwin, time_datetime_runwin,time_counter_runwin_mod] = amm60_data_tools.delta_diagnose(temp_mod, time_counter, depth, 100 )\n",
    "    [delta_obs, delta_nt_obs, delta_var, time_datetime,  delta_runwin_obs, delta_var_runwin, time_datetime_runwin,time_counter_runwin_obs] = amm60_data_tools.delta_diagnose(temp_obs, time_counter, depth, 100 )\n",
    "    empty_zone = len(delta_mod)-len(delta_runwin_mod)\n",
    "    delta_3d_mod = np.zeros(delta_mod.shape)\n",
    "    delta_3d_mod[empty_zone/2:-empty_zone/2] = delta_runwin_mod\n",
    "    delta_3d_obs = np.zeros(delta_obs.shape)\n",
    "    delta_3d_obs[empty_zone/2:-empty_zone/2] = delta_runwin_obs\n",
    "    appendNC2D('/media/data1/AMM60/FASTNEt/AMM7/mooring_' + MOORING_NAME + '.nc',len(time_counter),delta_mod,delta_obs,delta_nt_mod,delta_nt_obs,delta_3d_mod,delta_3d_obs)\n",
    "\n",
    "        \n",
    "    # NNA\n",
    "    print('NNA')\n",
    "    MOORING_filename = '/media/data1/AMM60/FASTNEt/NNA/Orig/mooring_' + MOORING_NAME + '.nc'\n",
    "    temp_obs = amm60_data_tools.readMODELnc(MOORING_filename,'temp_obs')\n",
    "    temp_mod = amm60_data_tools.readMODELnc(MOORING_filename,'temp_mod')\n",
    "    depth = amm60_data_tools.readMODELnc(MOORING_filename,'depth')\n",
    "    time_counter = amm60_data_tools.readMODELnc(MOORING_filename,'time')*86400\n",
    "    [delta_mod, delta_nt_mod, delta_var, time_datetime,  delta_runwin_mod, delta_var_runwin, time_datetime_runwin,time_counter_runwin_mod] = amm60_data_tools.delta_diagnose(temp_mod, time_counter, depth, 100 )\n",
    "    [delta_obs, delta_nt_obs, delta_var, time_datetime,  delta_runwin_obs, delta_var_runwin, time_datetime_runwin,time_counter_runwin_obs] = amm60_data_tools.delta_diagnose(temp_obs, time_counter, depth, 100 )\n",
    "    empty_zone = len(delta_mod)-len(delta_runwin_mod)\n",
    "    delta_3d_mod = np.zeros(delta_mod.shape)\n",
    "    delta_3d_mod[empty_zone/2:-empty_zone/2] = delta_runwin_mod\n",
    "    delta_3d_obs = np.zeros(delta_obs.shape)\n",
    "    delta_3d_obs[empty_zone/2:-empty_zone/2] = delta_runwin_obs\n",
    "    appendNC2D('/media/data1/AMM60/FASTNEt/NNA/mooring_' + MOORING_NAME + '.nc',len(time_counter),delta_mod,delta_obs,delta_nt_mod,delta_nt_obs,delta_3d_mod,delta_3d_obs)\n",
    "    "
   ]
  },
  {
   "cell_type": "code",
   "execution_count": 23,
   "metadata": {
    "collapsed": false
   },
   "outputs": [
    {
     "name": "stdout",
     "output_type": "stream",
     "text": [
      "[  1.33863306e+09   1.33889226e+09   1.33915146e+09   1.33941066e+09\n",
      "   1.33966986e+09   1.33992906e+09   1.34018826e+09   1.34044746e+09\n",
      "   1.34070666e+09   1.34096586e+09]\n"
     ]
    }
   ],
   "source": [
    "\n"
   ]
  },
  {
   "cell_type": "code",
   "execution_count": null,
   "metadata": {
    "collapsed": true
   },
   "outputs": [],
   "source": []
  }
 ],
 "metadata": {
  "kernelspec": {
   "display_name": "Python 2",
   "language": "python",
   "name": "python2"
  },
  "language_info": {
   "codemirror_mode": {
    "name": "ipython",
    "version": 2
   },
   "file_extension": ".py",
   "mimetype": "text/x-python",
   "name": "python",
   "nbconvert_exporter": "python",
   "pygments_lexer": "ipython2",
   "version": "2.7.10"
  }
 },
 "nbformat": 4,
 "nbformat_minor": 0
}
